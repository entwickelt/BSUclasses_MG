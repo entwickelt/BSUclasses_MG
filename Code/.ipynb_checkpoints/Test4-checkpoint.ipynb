{
 "cells": [
  {
   "cell_type": "markdown",
   "id": "784f9fca",
   "metadata": {},
   "source": [
    "## <center> Test 4\n",
    "    \n",
    "<b> Creating a new file in Jupyter and using terminal to save to GitHub.     "
   ]
  },
  {
   "cell_type": "code",
   "execution_count": 2,
   "id": "84f5dff5",
   "metadata": {},
   "outputs": [
    {
     "name": "stdout",
     "output_type": "stream",
     "text": [
      "Test4\n"
     ]
    }
   ],
   "source": [
    "print(\"Test4\")"
   ]
  }
 ],
 "metadata": {
  "kernelspec": {
   "display_name": "Python 3 (ipykernel)",
   "language": "python",
   "name": "python3"
  },
  "language_info": {
   "codemirror_mode": {
    "name": "ipython",
    "version": 3
   },
   "file_extension": ".py",
   "mimetype": "text/x-python",
   "name": "python",
   "nbconvert_exporter": "python",
   "pygments_lexer": "ipython3",
   "version": "3.9.13"
  }
 },
 "nbformat": 4,
 "nbformat_minor": 5
}
